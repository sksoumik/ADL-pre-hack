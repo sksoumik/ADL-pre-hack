{
 "cells": [
  {
   "cell_type": "code",
   "execution_count": 1,
   "id": "91b78812",
   "metadata": {},
   "outputs": [],
   "source": [
    "import pandas as pd"
   ]
  },
  {
   "cell_type": "code",
   "execution_count": 2,
   "id": "b374ca45",
   "metadata": {},
   "outputs": [],
   "source": [
    "import numpy as np\n",
    "from sklearn.model_selection import train_test_split\n",
    "from sklearn.metrics import confusion_matrix, f1_score"
   ]
  },
  {
   "cell_type": "code",
   "execution_count": 3,
   "id": "ec26b54e",
   "metadata": {},
   "outputs": [],
   "source": [
    "import xgboost as xgb"
   ]
  },
  {
   "cell_type": "code",
   "execution_count": 4,
   "id": "293ff39e",
   "metadata": {},
   "outputs": [],
   "source": [
    "df_train = pd.read_csv(\"input/train_dataset.csv\")"
   ]
  },
  {
   "cell_type": "code",
   "execution_count": 5,
   "id": "895125a9",
   "metadata": {},
   "outputs": [
    {
     "data": {
      "text/html": [
       "<div>\n",
       "<style scoped>\n",
       "    .dataframe tbody tr th:only-of-type {\n",
       "        vertical-align: middle;\n",
       "    }\n",
       "\n",
       "    .dataframe tbody tr th {\n",
       "        vertical-align: top;\n",
       "    }\n",
       "\n",
       "    .dataframe thead th {\n",
       "        text-align: right;\n",
       "    }\n",
       "</style>\n",
       "<table border=\"1\" class=\"dataframe\">\n",
       "  <thead>\n",
       "    <tr style=\"text-align: right;\">\n",
       "      <th></th>\n",
       "      <th>primary_identifier</th>\n",
       "      <th>device_type</th>\n",
       "      <th>device_category</th>\n",
       "      <th>gender</th>\n",
       "      <th>district_name</th>\n",
       "      <th>age_group</th>\n",
       "      <th>network_stay</th>\n",
       "      <th>average_monthly_bill_amount</th>\n",
       "      <th>dusage_sum</th>\n",
       "      <th>dusage_min</th>\n",
       "      <th>...</th>\n",
       "      <th>vusage_offnet_max</th>\n",
       "      <th>vusage_offnet_min</th>\n",
       "      <th>vusage_offnet_days</th>\n",
       "      <th>vusage_offnet_avg</th>\n",
       "      <th>vusage_offnet_stddev</th>\n",
       "      <th>number_of_fixed_bb_accounts</th>\n",
       "      <th>number_of_iptv_accounts</th>\n",
       "      <th>add_on_tot_rental</th>\n",
       "      <th>add_on_count</th>\n",
       "      <th>next_month_plan</th>\n",
       "    </tr>\n",
       "  </thead>\n",
       "  <tbody>\n",
       "    <tr>\n",
       "      <th>0</th>\n",
       "      <td>6875768</td>\n",
       "      <td>4G</td>\n",
       "      <td>Smartphone</td>\n",
       "      <td>MALE</td>\n",
       "      <td>Kegalle</td>\n",
       "      <td>40-50</td>\n",
       "      <td>219</td>\n",
       "      <td>761.62</td>\n",
       "      <td>6317.0</td>\n",
       "      <td>2.773958</td>\n",
       "      <td>...</td>\n",
       "      <td>152.866667</td>\n",
       "      <td>0.0</td>\n",
       "      <td>27.0</td>\n",
       "      <td>25.099383</td>\n",
       "      <td>34.759221</td>\n",
       "      <td>0.0</td>\n",
       "      <td>1.0</td>\n",
       "      <td>NaN</td>\n",
       "      <td>NaN</td>\n",
       "      <td>PKG2</td>\n",
       "    </tr>\n",
       "    <tr>\n",
       "      <th>1</th>\n",
       "      <td>6406277</td>\n",
       "      <td>4G</td>\n",
       "      <td>Smartphone</td>\n",
       "      <td>MALE</td>\n",
       "      <td>Galle</td>\n",
       "      <td>40-50</td>\n",
       "      <td>36</td>\n",
       "      <td>2482.52</td>\n",
       "      <td>28365.0</td>\n",
       "      <td>3.079438</td>\n",
       "      <td>...</td>\n",
       "      <td>35.433333</td>\n",
       "      <td>0.0</td>\n",
       "      <td>15.0</td>\n",
       "      <td>5.071111</td>\n",
       "      <td>6.779644</td>\n",
       "      <td>0.0</td>\n",
       "      <td>0.0</td>\n",
       "      <td>600.0</td>\n",
       "      <td>2.0</td>\n",
       "      <td>PKG1</td>\n",
       "    </tr>\n",
       "  </tbody>\n",
       "</table>\n",
       "<p>2 rows × 31 columns</p>\n",
       "</div>"
      ],
      "text/plain": [
       "   primary_identifier device_type device_category gender district_name  \\\n",
       "0             6875768          4G      Smartphone   MALE       Kegalle   \n",
       "1             6406277          4G      Smartphone   MALE         Galle   \n",
       "\n",
       "  age_group  network_stay  average_monthly_bill_amount  dusage_sum  \\\n",
       "0     40-50           219                       761.62      6317.0   \n",
       "1     40-50            36                      2482.52     28365.0   \n",
       "\n",
       "   dusage_min  ...  vusage_offnet_max  vusage_offnet_min  vusage_offnet_days  \\\n",
       "0    2.773958  ...         152.866667                0.0                27.0   \n",
       "1    3.079438  ...          35.433333                0.0                15.0   \n",
       "\n",
       "   vusage_offnet_avg  vusage_offnet_stddev  number_of_fixed_bb_accounts  \\\n",
       "0          25.099383             34.759221                          0.0   \n",
       "1           5.071111              6.779644                          0.0   \n",
       "\n",
       "   number_of_iptv_accounts  add_on_tot_rental  add_on_count  next_month_plan  \n",
       "0                      1.0                NaN           NaN             PKG2  \n",
       "1                      0.0              600.0           2.0             PKG1  \n",
       "\n",
       "[2 rows x 31 columns]"
      ]
     },
     "execution_count": 5,
     "metadata": {},
     "output_type": "execute_result"
    }
   ],
   "source": [
    "df_train.head(2)"
   ]
  },
  {
   "cell_type": "code",
   "execution_count": 6,
   "id": "fbf7052f",
   "metadata": {},
   "outputs": [
    {
     "data": {
      "text/plain": [
       "(10500, 31)"
      ]
     },
     "execution_count": 6,
     "metadata": {},
     "output_type": "execute_result"
    }
   ],
   "source": [
    "df_train.shape"
   ]
  },
  {
   "cell_type": "code",
   "execution_count": 8,
   "id": "0c66a183",
   "metadata": {},
   "outputs": [
    {
     "data": {
      "text/plain": [
       "30-40    3522\n",
       "40-50    2585\n",
       "20-30    1833\n",
       "50-60    1412\n",
       "60-70     701\n",
       ">70       253\n",
       "<20        59\n",
       "Name: age_group, dtype: int64"
      ]
     },
     "execution_count": 8,
     "metadata": {},
     "output_type": "execute_result"
    }
   ],
   "source": [
    "df_train['age_group'].value_counts()"
   ]
  },
  {
   "cell_type": "code",
   "execution_count": 9,
   "id": "cff0e54f",
   "metadata": {},
   "outputs": [],
   "source": [
    "map_dict_age_grp = {'30-40': '30_40', '40-50': '40_50', '20-30': '20_30', '50-60': '50_60', '60-70': '60_70',\n",
    "                    '>70': 'more_than_70', '<20': 'less_than_20'}\n",
    "df_train['age_group'].replace(map_dict_age_grp, inplace=True)"
   ]
  },
  {
   "cell_type": "code",
   "execution_count": 10,
   "id": "fe09ca59",
   "metadata": {},
   "outputs": [
    {
     "data": {
      "text/plain": [
       "30_40           3522\n",
       "40_50           2585\n",
       "20_30           1833\n",
       "50_60           1412\n",
       "60_70            701\n",
       "more_than_70     253\n",
       "less_than_20      59\n",
       "Name: age_group, dtype: int64"
      ]
     },
     "execution_count": 10,
     "metadata": {},
     "output_type": "execute_result"
    }
   ],
   "source": [
    "df_train['age_group'].value_counts()"
   ]
  },
  {
   "cell_type": "code",
   "execution_count": 7,
   "id": "56b3eeb1",
   "metadata": {},
   "outputs": [],
   "source": [
    "df_plan = pd.read_csv(\"input/mobile_plans.csv\")"
   ]
  },
  {
   "cell_type": "code",
   "execution_count": 148,
   "id": "3ad59fbb",
   "metadata": {},
   "outputs": [
    {
     "data": {
      "text/html": [
       "<div>\n",
       "<style scoped>\n",
       "    .dataframe tbody tr th:only-of-type {\n",
       "        vertical-align: middle;\n",
       "    }\n",
       "\n",
       "    .dataframe tbody tr th {\n",
       "        vertical-align: top;\n",
       "    }\n",
       "\n",
       "    .dataframe thead th {\n",
       "        text-align: right;\n",
       "    }\n",
       "</style>\n",
       "<table border=\"1\" class=\"dataframe\">\n",
       "  <thead>\n",
       "    <tr style=\"text-align: right;\">\n",
       "      <th></th>\n",
       "      <th>plan_name</th>\n",
       "      <th>data_quota</th>\n",
       "      <th>voice_onnet_quota</th>\n",
       "      <th>voice_offnet_quota</th>\n",
       "      <th>text_onnet_quota</th>\n",
       "      <th>text_offnet_quota</th>\n",
       "      <th>plan_value</th>\n",
       "      <th>plan_number</th>\n",
       "    </tr>\n",
       "  </thead>\n",
       "  <tbody>\n",
       "    <tr>\n",
       "      <th>0</th>\n",
       "      <td>PKG1</td>\n",
       "      <td>3</td>\n",
       "      <td>900</td>\n",
       "      <td>0</td>\n",
       "      <td>900</td>\n",
       "      <td>0</td>\n",
       "      <td>400</td>\n",
       "      <td>1</td>\n",
       "    </tr>\n",
       "    <tr>\n",
       "      <th>1</th>\n",
       "      <td>PKG2</td>\n",
       "      <td>6</td>\n",
       "      <td>900</td>\n",
       "      <td>0</td>\n",
       "      <td>900</td>\n",
       "      <td>0</td>\n",
       "      <td>620</td>\n",
       "      <td>2</td>\n",
       "    </tr>\n",
       "    <tr>\n",
       "      <th>2</th>\n",
       "      <td>PKG3</td>\n",
       "      <td>8</td>\n",
       "      <td>unlimited</td>\n",
       "      <td>0</td>\n",
       "      <td>unlimited</td>\n",
       "      <td>0</td>\n",
       "      <td>950</td>\n",
       "      <td>3</td>\n",
       "    </tr>\n",
       "    <tr>\n",
       "      <th>3</th>\n",
       "      <td>PKG4</td>\n",
       "      <td>12</td>\n",
       "      <td>unlimited</td>\n",
       "      <td>0</td>\n",
       "      <td>unlimited</td>\n",
       "      <td>0</td>\n",
       "      <td>1300</td>\n",
       "      <td>4</td>\n",
       "    </tr>\n",
       "    <tr>\n",
       "      <th>4</th>\n",
       "      <td>PKG5</td>\n",
       "      <td>12</td>\n",
       "      <td>unlimited</td>\n",
       "      <td>450</td>\n",
       "      <td>unlimited</td>\n",
       "      <td>0</td>\n",
       "      <td>1550</td>\n",
       "      <td>5</td>\n",
       "    </tr>\n",
       "    <tr>\n",
       "      <th>5</th>\n",
       "      <td>PKG6</td>\n",
       "      <td>20</td>\n",
       "      <td>unlimited</td>\n",
       "      <td>450</td>\n",
       "      <td>unlimited</td>\n",
       "      <td>0</td>\n",
       "      <td>1900</td>\n",
       "      <td>6</td>\n",
       "    </tr>\n",
       "    <tr>\n",
       "      <th>6</th>\n",
       "      <td>PKG7</td>\n",
       "      <td>40</td>\n",
       "      <td>unlimited</td>\n",
       "      <td>450</td>\n",
       "      <td>unlimited</td>\n",
       "      <td>0</td>\n",
       "      <td>2550</td>\n",
       "      <td>7</td>\n",
       "    </tr>\n",
       "    <tr>\n",
       "      <th>7</th>\n",
       "      <td>PKG8</td>\n",
       "      <td>50</td>\n",
       "      <td>unlimited</td>\n",
       "      <td>900</td>\n",
       "      <td>unlimited</td>\n",
       "      <td>0</td>\n",
       "      <td>3200</td>\n",
       "      <td>8</td>\n",
       "    </tr>\n",
       "  </tbody>\n",
       "</table>\n",
       "</div>"
      ],
      "text/plain": [
       "  plan_name  data_quota voice_onnet_quota  voice_offnet_quota  \\\n",
       "0      PKG1           3               900                   0   \n",
       "1      PKG2           6               900                   0   \n",
       "2      PKG3           8         unlimited                   0   \n",
       "3      PKG4          12         unlimited                   0   \n",
       "4      PKG5          12         unlimited                 450   \n",
       "5      PKG6          20         unlimited                 450   \n",
       "6      PKG7          40         unlimited                 450   \n",
       "7      PKG8          50         unlimited                 900   \n",
       "\n",
       "  text_onnet_quota  text_offnet_quota  plan_value  plan_number  \n",
       "0              900                  0         400            1  \n",
       "1              900                  0         620            2  \n",
       "2        unlimited                  0         950            3  \n",
       "3        unlimited                  0        1300            4  \n",
       "4        unlimited                  0        1550            5  \n",
       "5        unlimited                  0        1900            6  \n",
       "6        unlimited                  0        2550            7  \n",
       "7        unlimited                  0        3200            8  "
      ]
     },
     "execution_count": 148,
     "metadata": {},
     "output_type": "execute_result"
    }
   ],
   "source": [
    "df_plan.head(8)"
   ]
  },
  {
   "cell_type": "code",
   "execution_count": 149,
   "id": "b2943ffb",
   "metadata": {},
   "outputs": [
    {
     "data": {
      "text/plain": [
       "8"
      ]
     },
     "execution_count": 149,
     "metadata": {},
     "output_type": "execute_result"
    }
   ],
   "source": [
    "len(df_plan)"
   ]
  },
  {
   "cell_type": "code",
   "execution_count": 150,
   "id": "c55add3a",
   "metadata": {},
   "outputs": [
    {
     "data": {
      "text/plain": [
       "1    1\n",
       "2    1\n",
       "3    1\n",
       "4    1\n",
       "5    1\n",
       "6    1\n",
       "7    1\n",
       "8    1\n",
       "Name: plan_number, dtype: int64"
      ]
     },
     "execution_count": 150,
     "metadata": {},
     "output_type": "execute_result"
    }
   ],
   "source": [
    "df_plan['plan_number'].value_counts()"
   ]
  },
  {
   "cell_type": "code",
   "execution_count": 151,
   "id": "73273d45",
   "metadata": {},
   "outputs": [
    {
     "data": {
      "text/plain": [
       "PKG1    3673\n",
       "PKG3    1717\n",
       "PKG5    1558\n",
       "PKG2    1354\n",
       "PKG6     740\n",
       "PKG4     735\n",
       "PKG7     364\n",
       "PKG8     359\n",
       "Name: next_month_plan, dtype: int64"
      ]
     },
     "execution_count": 151,
     "metadata": {},
     "output_type": "execute_result"
    }
   ],
   "source": [
    "df_train.next_month_plan.value_counts()"
   ]
  },
  {
   "cell_type": "code",
   "execution_count": 152,
   "id": "c7886073",
   "metadata": {},
   "outputs": [],
   "source": [
    "df_test = pd.read_csv(\"input/test_dataset.csv\")"
   ]
  },
  {
   "cell_type": "code",
   "execution_count": 153,
   "id": "366dc84f",
   "metadata": {},
   "outputs": [
    {
     "data": {
      "text/html": [
       "<div>\n",
       "<style scoped>\n",
       "    .dataframe tbody tr th:only-of-type {\n",
       "        vertical-align: middle;\n",
       "    }\n",
       "\n",
       "    .dataframe tbody tr th {\n",
       "        vertical-align: top;\n",
       "    }\n",
       "\n",
       "    .dataframe thead th {\n",
       "        text-align: right;\n",
       "    }\n",
       "</style>\n",
       "<table border=\"1\" class=\"dataframe\">\n",
       "  <thead>\n",
       "    <tr style=\"text-align: right;\">\n",
       "      <th></th>\n",
       "      <th>primary_identifier</th>\n",
       "      <th>device_type</th>\n",
       "      <th>device_category</th>\n",
       "      <th>gender</th>\n",
       "      <th>district_name</th>\n",
       "      <th>age_group</th>\n",
       "      <th>network_stay</th>\n",
       "      <th>average_monthly_bill_amount</th>\n",
       "      <th>dusage_sum</th>\n",
       "      <th>dusage_min</th>\n",
       "      <th>...</th>\n",
       "      <th>vusage_offnet_sum</th>\n",
       "      <th>vusage_offnet_max</th>\n",
       "      <th>vusage_offnet_min</th>\n",
       "      <th>vusage_offnet_days</th>\n",
       "      <th>vusage_offnet_avg</th>\n",
       "      <th>vusage_offnet_stddev</th>\n",
       "      <th>number_of_fixed_bb_accounts</th>\n",
       "      <th>number_of_iptv_accounts</th>\n",
       "      <th>add_on_tot_rental</th>\n",
       "      <th>add_on_count</th>\n",
       "    </tr>\n",
       "  </thead>\n",
       "  <tbody>\n",
       "    <tr>\n",
       "      <th>0</th>\n",
       "      <td>2003793</td>\n",
       "      <td>4G</td>\n",
       "      <td>Smartphone</td>\n",
       "      <td>MALE</td>\n",
       "      <td>Colombo</td>\n",
       "      <td>40-50</td>\n",
       "      <td>4</td>\n",
       "      <td>689.42</td>\n",
       "      <td>148.0</td>\n",
       "      <td>0.000000</td>\n",
       "      <td>...</td>\n",
       "      <td>0.0</td>\n",
       "      <td>0.000000</td>\n",
       "      <td>0.0</td>\n",
       "      <td>0.0</td>\n",
       "      <td>NaN</td>\n",
       "      <td>0.000000</td>\n",
       "      <td>0.0</td>\n",
       "      <td>1.0</td>\n",
       "      <td>NaN</td>\n",
       "      <td>NaN</td>\n",
       "    </tr>\n",
       "    <tr>\n",
       "      <th>1</th>\n",
       "      <td>1776101</td>\n",
       "      <td>4G</td>\n",
       "      <td>Smartphone</td>\n",
       "      <td>MALE</td>\n",
       "      <td>Colombo</td>\n",
       "      <td>40-50</td>\n",
       "      <td>7</td>\n",
       "      <td>799.93</td>\n",
       "      <td>300.0</td>\n",
       "      <td>0.180222</td>\n",
       "      <td>...</td>\n",
       "      <td>107.0</td>\n",
       "      <td>16.266667</td>\n",
       "      <td>0.0</td>\n",
       "      <td>21.0</td>\n",
       "      <td>5.107143</td>\n",
       "      <td>4.924111</td>\n",
       "      <td>0.0</td>\n",
       "      <td>0.0</td>\n",
       "      <td>NaN</td>\n",
       "      <td>NaN</td>\n",
       "    </tr>\n",
       "  </tbody>\n",
       "</table>\n",
       "<p>2 rows × 30 columns</p>\n",
       "</div>"
      ],
      "text/plain": [
       "   primary_identifier device_type device_category gender district_name  \\\n",
       "0             2003793          4G      Smartphone   MALE       Colombo   \n",
       "1             1776101          4G      Smartphone   MALE       Colombo   \n",
       "\n",
       "  age_group  network_stay  average_monthly_bill_amount  dusage_sum  \\\n",
       "0     40-50             4                       689.42       148.0   \n",
       "1     40-50             7                       799.93       300.0   \n",
       "\n",
       "   dusage_min  ...  vusage_offnet_sum  vusage_offnet_max  vusage_offnet_min  \\\n",
       "0    0.000000  ...                0.0           0.000000                0.0   \n",
       "1    0.180222  ...              107.0          16.266667                0.0   \n",
       "\n",
       "   vusage_offnet_days  vusage_offnet_avg  vusage_offnet_stddev  \\\n",
       "0                 0.0                NaN              0.000000   \n",
       "1                21.0           5.107143              4.924111   \n",
       "\n",
       "   number_of_fixed_bb_accounts  number_of_iptv_accounts  add_on_tot_rental  \\\n",
       "0                          0.0                      1.0                NaN   \n",
       "1                          0.0                      0.0                NaN   \n",
       "\n",
       "   add_on_count  \n",
       "0           NaN  \n",
       "1           NaN  \n",
       "\n",
       "[2 rows x 30 columns]"
      ]
     },
     "execution_count": 153,
     "metadata": {},
     "output_type": "execute_result"
    }
   ],
   "source": [
    "df_test.head(2)"
   ]
  },
  {
   "cell_type": "code",
   "execution_count": 154,
   "id": "b0cf4316",
   "metadata": {},
   "outputs": [
    {
     "data": {
      "text/plain": [
       "(4500, 30)"
      ]
     },
     "execution_count": 154,
     "metadata": {},
     "output_type": "execute_result"
    }
   ],
   "source": [
    "df_test.shape"
   ]
  },
  {
   "cell_type": "code",
   "execution_count": 155,
   "id": "226bbca3",
   "metadata": {},
   "outputs": [
    {
     "name": "stdout",
     "output_type": "stream",
     "text": [
      "<class 'pandas.core.frame.DataFrame'>\n",
      "RangeIndex: 10500 entries, 0 to 10499\n",
      "Data columns (total 31 columns):\n",
      " #   Column                       Non-Null Count  Dtype  \n",
      "---  ------                       --------------  -----  \n",
      " 0   primary_identifier           10500 non-null  int64  \n",
      " 1   device_type                  10477 non-null  object \n",
      " 2   device_category              10470 non-null  object \n",
      " 3   gender                       10365 non-null  object \n",
      " 4   district_name                10500 non-null  object \n",
      " 5   age_group                    10365 non-null  object \n",
      " 6   network_stay                 10500 non-null  int64  \n",
      " 7   average_monthly_bill_amount  10500 non-null  float64\n",
      " 8   dusage_sum                   10500 non-null  float64\n",
      " 9   dusage_min                   10500 non-null  float64\n",
      " 10  dusage_max                   10500 non-null  float64\n",
      " 11  dusage_avg                   9642 non-null   float64\n",
      " 12  dusage_days                  10500 non-null  float64\n",
      " 13  dusage_stddev                10500 non-null  float64\n",
      " 14  vusage_onnet_sum             10500 non-null  float64\n",
      " 15  vusage_onnet_max             10500 non-null  float64\n",
      " 16  vusage_onnet_min             10500 non-null  float64\n",
      " 17  vusage_onnet_days            10500 non-null  float64\n",
      " 18  vusage_onnet_avg             1828 non-null   float64\n",
      " 19  vusage_onnet_stddev          10500 non-null  float64\n",
      " 20  vusage_offnet_sum            10500 non-null  float64\n",
      " 21  vusage_offnet_max            10500 non-null  float64\n",
      " 22  vusage_offnet_min            10500 non-null  float64\n",
      " 23  vusage_offnet_days           10500 non-null  float64\n",
      " 24  vusage_offnet_avg            7187 non-null   float64\n",
      " 25  vusage_offnet_stddev         10500 non-null  float64\n",
      " 26  number_of_fixed_bb_accounts  10500 non-null  float64\n",
      " 27  number_of_iptv_accounts      10500 non-null  float64\n",
      " 28  add_on_tot_rental            6667 non-null   float64\n",
      " 29  add_on_count                 6667 non-null   float64\n",
      " 30  next_month_plan              10500 non-null  object \n",
      "dtypes: float64(23), int64(2), object(6)\n",
      "memory usage: 2.5+ MB\n"
     ]
    }
   ],
   "source": [
    "df_train.info()"
   ]
  },
  {
   "cell_type": "code",
   "execution_count": 156,
   "id": "fafeee26",
   "metadata": {},
   "outputs": [
    {
     "data": {
      "text/plain": [
       "0"
      ]
     },
     "execution_count": 156,
     "metadata": {},
     "output_type": "execute_result"
    }
   ],
   "source": [
    "df_train[\"next_month_plan\"].isna().sum()"
   ]
  },
  {
   "cell_type": "code",
   "execution_count": 157,
   "id": "20b606f7",
   "metadata": {},
   "outputs": [
    {
     "data": {
      "text/plain": [
       "primary_identifier                0\n",
       "device_type                      23\n",
       "device_category                  30\n",
       "gender                          135\n",
       "district_name                     0\n",
       "age_group                       135\n",
       "network_stay                      0\n",
       "average_monthly_bill_amount       0\n",
       "dusage_sum                        0\n",
       "dusage_min                        0\n",
       "dusage_max                        0\n",
       "dusage_avg                      858\n",
       "dusage_days                       0\n",
       "dusage_stddev                     0\n",
       "vusage_onnet_sum                  0\n",
       "vusage_onnet_max                  0\n",
       "vusage_onnet_min                  0\n",
       "vusage_onnet_days                 0\n",
       "vusage_onnet_avg               8672\n",
       "vusage_onnet_stddev               0\n",
       "vusage_offnet_sum                 0\n",
       "vusage_offnet_max                 0\n",
       "vusage_offnet_min                 0\n",
       "vusage_offnet_days                0\n",
       "vusage_offnet_avg              3313\n",
       "vusage_offnet_stddev              0\n",
       "number_of_fixed_bb_accounts       0\n",
       "number_of_iptv_accounts           0\n",
       "add_on_tot_rental              3833\n",
       "add_on_count                   3833\n",
       "next_month_plan                   0\n",
       "dtype: int64"
      ]
     },
     "execution_count": 157,
     "metadata": {},
     "output_type": "execute_result"
    }
   ],
   "source": [
    "df_train.isna().sum()"
   ]
  },
  {
   "cell_type": "code",
   "execution_count": 158,
   "id": "25a3f1b0",
   "metadata": {},
   "outputs": [
    {
     "data": {
      "text/plain": [
       "PKG1    3673\n",
       "PKG3    1717\n",
       "PKG5    1558\n",
       "PKG2    1354\n",
       "PKG6     740\n",
       "PKG4     735\n",
       "PKG7     364\n",
       "PKG8     359\n",
       "Name: next_month_plan, dtype: int64"
      ]
     },
     "execution_count": 158,
     "metadata": {},
     "output_type": "execute_result"
    }
   ],
   "source": [
    "df_train[\"next_month_plan\"].value_counts()"
   ]
  },
  {
   "cell_type": "code",
   "execution_count": 159,
   "id": "4c903a13",
   "metadata": {},
   "outputs": [],
   "source": [
    "# convert target values in numeric\n",
    "\n",
    "map_dict_target = {'PKG1': 1, 'PKG2': 2, 'PKG3':3, 'PKG4': 4, 'PKG5': 5, 'PKG6': 6, 'PKG7': 7, 'PKG8': 8}\n",
    "df_train['next_month_plan'].replace(map_dict_target, inplace=True)"
   ]
  },
  {
   "cell_type": "code",
   "execution_count": 160,
   "id": "56c81215",
   "metadata": {},
   "outputs": [
    {
     "data": {
      "text/plain": [
       "1    3673\n",
       "3    1717\n",
       "5    1558\n",
       "2    1354\n",
       "6     740\n",
       "4     735\n",
       "7     364\n",
       "8     359\n",
       "Name: next_month_plan, dtype: int64"
      ]
     },
     "execution_count": 160,
     "metadata": {},
     "output_type": "execute_result"
    }
   ],
   "source": [
    "df_train[\"next_month_plan\"].value_counts()"
   ]
  },
  {
   "cell_type": "code",
   "execution_count": 161,
   "id": "a06d9141",
   "metadata": {},
   "outputs": [],
   "source": [
    "# select features\n",
    "X = df_train.drop(\"next_month_plan\", axis=1).copy()"
   ]
  },
  {
   "cell_type": "code",
   "execution_count": 162,
   "id": "d9567e3f",
   "metadata": {},
   "outputs": [
    {
     "data": {
      "text/plain": [
       "(10500, 30)"
      ]
     },
     "execution_count": 162,
     "metadata": {},
     "output_type": "execute_result"
    }
   ],
   "source": [
    "X.shape"
   ]
  },
  {
   "cell_type": "code",
   "execution_count": 163,
   "id": "a88e9655",
   "metadata": {},
   "outputs": [],
   "source": [
    "# target column\n",
    "y = df_train['next_month_plan'].copy()"
   ]
  },
  {
   "cell_type": "code",
   "execution_count": 164,
   "id": "2e4a828f",
   "metadata": {},
   "outputs": [
    {
     "data": {
      "text/plain": [
       "(10500,)"
      ]
     },
     "execution_count": 164,
     "metadata": {},
     "output_type": "execute_result"
    }
   ],
   "source": [
    "y.shape"
   ]
  },
  {
   "cell_type": "code",
   "execution_count": 165,
   "id": "c3156417",
   "metadata": {},
   "outputs": [
    {
     "name": "stdout",
     "output_type": "stream",
     "text": [
      "<class 'pandas.core.frame.DataFrame'>\n",
      "RangeIndex: 10500 entries, 0 to 10499\n",
      "Data columns (total 30 columns):\n",
      " #   Column                       Non-Null Count  Dtype  \n",
      "---  ------                       --------------  -----  \n",
      " 0   primary_identifier           10500 non-null  int64  \n",
      " 1   device_type                  10477 non-null  object \n",
      " 2   device_category              10470 non-null  object \n",
      " 3   gender                       10365 non-null  object \n",
      " 4   district_name                10500 non-null  object \n",
      " 5   age_group                    10365 non-null  object \n",
      " 6   network_stay                 10500 non-null  int64  \n",
      " 7   average_monthly_bill_amount  10500 non-null  float64\n",
      " 8   dusage_sum                   10500 non-null  float64\n",
      " 9   dusage_min                   10500 non-null  float64\n",
      " 10  dusage_max                   10500 non-null  float64\n",
      " 11  dusage_avg                   9642 non-null   float64\n",
      " 12  dusage_days                  10500 non-null  float64\n",
      " 13  dusage_stddev                10500 non-null  float64\n",
      " 14  vusage_onnet_sum             10500 non-null  float64\n",
      " 15  vusage_onnet_max             10500 non-null  float64\n",
      " 16  vusage_onnet_min             10500 non-null  float64\n",
      " 17  vusage_onnet_days            10500 non-null  float64\n",
      " 18  vusage_onnet_avg             1828 non-null   float64\n",
      " 19  vusage_onnet_stddev          10500 non-null  float64\n",
      " 20  vusage_offnet_sum            10500 non-null  float64\n",
      " 21  vusage_offnet_max            10500 non-null  float64\n",
      " 22  vusage_offnet_min            10500 non-null  float64\n",
      " 23  vusage_offnet_days           10500 non-null  float64\n",
      " 24  vusage_offnet_avg            7187 non-null   float64\n",
      " 25  vusage_offnet_stddev         10500 non-null  float64\n",
      " 26  number_of_fixed_bb_accounts  10500 non-null  float64\n",
      " 27  number_of_iptv_accounts      10500 non-null  float64\n",
      " 28  add_on_tot_rental            6667 non-null   float64\n",
      " 29  add_on_count                 6667 non-null   float64\n",
      "dtypes: float64(23), int64(2), object(5)\n",
      "memory usage: 2.4+ MB\n"
     ]
    }
   ],
   "source": [
    "X.info()"
   ]
  },
  {
   "cell_type": "code",
   "execution_count": 166,
   "id": "b7231e1a",
   "metadata": {},
   "outputs": [
    {
     "data": {
      "text/plain": [
       "4G    9380\n",
       "2G     849\n",
       "3G     248\n",
       "Name: device_type, dtype: int64"
      ]
     },
     "execution_count": 166,
     "metadata": {},
     "output_type": "execute_result"
    }
   ],
   "source": [
    "df_train[\"device_type\"].value_counts()"
   ]
  },
  {
   "cell_type": "code",
   "execution_count": 167,
   "id": "f255a864",
   "metadata": {},
   "outputs": [
    {
     "data": {
      "text/plain": [
       "Smartphone        9532\n",
       "Feature phone      542\n",
       "Basic              318\n",
       "Tablet              64\n",
       "Modem                7\n",
       "Pluggable card       7\n",
       "Name: device_category, dtype: int64"
      ]
     },
     "execution_count": 167,
     "metadata": {},
     "output_type": "execute_result"
    }
   ],
   "source": [
    "df_train[\"device_category\"].value_counts()"
   ]
  },
  {
   "cell_type": "code",
   "execution_count": 168,
   "id": "cb444bbe",
   "metadata": {},
   "outputs": [
    {
     "data": {
      "text/plain": [
       "MALE      7429\n",
       "FEMALE    2936\n",
       "Name: gender, dtype: int64"
      ]
     },
     "execution_count": 168,
     "metadata": {},
     "output_type": "execute_result"
    }
   ],
   "source": [
    "df_train[\"gender\"].value_counts()"
   ]
  },
  {
   "cell_type": "code",
   "execution_count": 169,
   "id": "d21de9e8",
   "metadata": {},
   "outputs": [
    {
     "data": {
      "text/plain": [
       "30-40    3522\n",
       "40-50    2585\n",
       "20-30    1833\n",
       "50-60    1412\n",
       "60-70     701\n",
       ">70       253\n",
       "<20        59\n",
       "Name: age_group, dtype: int64"
      ]
     },
     "execution_count": 169,
     "metadata": {},
     "output_type": "execute_result"
    }
   ],
   "source": [
    "df_train[\"age_group\"].value_counts()"
   ]
  },
  {
   "cell_type": "code",
   "execution_count": 170,
   "id": "197d71bf",
   "metadata": {},
   "outputs": [
    {
     "data": {
      "text/plain": [
       "Colombo         4024\n",
       "Gampaha         1946\n",
       "Kandy            746\n",
       "Kalutara         603\n",
       "Kurunegala       436\n",
       "Galle            377\n",
       "Jaffna           280\n",
       "Puttalam         259\n",
       "Badulla          175\n",
       "Matale           173\n",
       "Kegalle          172\n",
       "Ampara           166\n",
       "Matara           149\n",
       "Ratnapura        141\n",
       "Anuradhapura     135\n",
       "Batticaloa       130\n",
       "Nuwara Eliya     109\n",
       "Trincomalee      108\n",
       "Hambantota        94\n",
       "Polonnaruwa       64\n",
       "Monaragala        62\n",
       "Vavuniya          60\n",
       "Kilinochchi       33\n",
       "Mannar            24\n",
       "Mullaitivu        19\n",
       "Unknown           15\n",
       "Name: district_name, dtype: int64"
      ]
     },
     "execution_count": 170,
     "metadata": {},
     "output_type": "execute_result"
    }
   ],
   "source": [
    "df_train[\"district_name\"].value_counts()"
   ]
  },
  {
   "cell_type": "code",
   "execution_count": 171,
   "id": "3d55cca7",
   "metadata": {},
   "outputs": [],
   "source": [
    "del df_train[\"age_group\"]"
   ]
  },
  {
   "cell_type": "code",
   "execution_count": 172,
   "id": "e4988182",
   "metadata": {},
   "outputs": [],
   "source": [
    "X_encoded = pd.get_dummies(df_train, columns=[\n",
    "    \"device_type\", \"device_category\", \"gender\",  \"district_name\"\n",
    "])"
   ]
  },
  {
   "cell_type": "code",
   "execution_count": 173,
   "id": "5bc32dde",
   "metadata": {},
   "outputs": [
    {
     "data": {
      "text/plain": [
       "(10500, 63)"
      ]
     },
     "execution_count": 173,
     "metadata": {},
     "output_type": "execute_result"
    }
   ],
   "source": [
    "X_encoded.shape"
   ]
  },
  {
   "cell_type": "code",
   "execution_count": 174,
   "id": "20091119",
   "metadata": {},
   "outputs": [
    {
     "data": {
      "text/plain": [
       "array([2, 1, 6, 4, 5, 3, 8, 7])"
      ]
     },
     "execution_count": 174,
     "metadata": {},
     "output_type": "execute_result"
    }
   ],
   "source": [
    "y.unique()"
   ]
  },
  {
   "cell_type": "code",
   "execution_count": 175,
   "id": "58547b82",
   "metadata": {},
   "outputs": [],
   "source": [
    "def train_test_split_stratified(X, y, test_size=0.2, random_state=42):\n",
    "    X_train, X_test, y_train, y_test = train_test_split(X, y, test_size=test_size, random_state=random_state, stratify=y)\n",
    "    return X_train, X_test, y_train, y_test"
   ]
  },
  {
   "cell_type": "code",
   "execution_count": 176,
   "id": "506a215c",
   "metadata": {},
   "outputs": [],
   "source": [
    "X_train, X_test, y_train, y_test = train_test_split_stratified(X_encoded, y)"
   ]
  },
  {
   "cell_type": "code",
   "execution_count": 177,
   "id": "baae7109",
   "metadata": {},
   "outputs": [
    {
     "data": {
      "text/plain": [
       "((8400, 63), (8400,))"
      ]
     },
     "execution_count": 177,
     "metadata": {},
     "output_type": "execute_result"
    }
   ],
   "source": [
    "X_train.shape, y_train.shape"
   ]
  },
  {
   "cell_type": "code",
   "execution_count": 178,
   "id": "5a5e5005",
   "metadata": {},
   "outputs": [
    {
     "data": {
      "text/plain": [
       "((2100, 63), (2100,))"
      ]
     },
     "execution_count": 178,
     "metadata": {},
     "output_type": "execute_result"
    }
   ],
   "source": [
    "X_test.shape, y_test.shape"
   ]
  },
  {
   "cell_type": "code",
   "execution_count": 179,
   "id": "85f35ac0",
   "metadata": {},
   "outputs": [],
   "source": [
    "# define xgb params\n",
    "\n",
    "def xgboost_params():\n",
    "    params = {\n",
    "        'max_depth': 5,\n",
    "        'eta': 0.3,\n",
    "        'silent': 1,\n",
    "        'objective': 'multi:softmax',\n",
    "        'num_class': 8,\n",
    "        'eval_metric': 'merror',\n",
    "        'nthread': 4,\n",
    "        'seed': 42,\n",
    "        'subsample': 0.8,\n",
    "        'colsample_bytree': 0.8,\n",
    "        'min_child_weight': 1,\n",
    "        'gamma': 0.1,\n",
    "        'reg_alpha': 0.1,\n",
    "        'reg_lambda': 1,\n",
    "        'scale_pos_weight': 1,\n",
    "        'base_score': 0.5,\n",
    "        'n_estimators': 100,\n",
    "    }\n",
    "    return params"
   ]
  },
  {
   "cell_type": "code",
   "execution_count": 180,
   "id": "1ff58fdd",
   "metadata": {},
   "outputs": [],
   "source": [
    "\n",
    "# xgboost model for multi-class classification\n",
    "def xgboost_model(X_train, X_test, y_train, y_test, params):\n",
    "    # xgboost model\n",
    "    model = xgb.XGBClassifier(**params)\n",
    "    model.fit(X_train, y_train)\n",
    "    y_pred = model.predict(X_test)\n",
    "    # print(model.predict_proba(X_test))\n",
    "    # print(model.predict_proba(X_test).shape)\n",
    "    # print(y_pred)\n",
    "    # print(y_pred.shape)\n",
    "    # print(y_test)\n",
    "    # print(y_test.shape)\n",
    "    # print(model.score(X_test, y_test))\n",
    "    return model, y_pred"
   ]
  },
  {
   "cell_type": "code",
   "execution_count": 181,
   "id": "38407b92",
   "metadata": {},
   "outputs": [],
   "source": [
    "params = xgboost_params()"
   ]
  },
  {
   "cell_type": "code",
   "execution_count": 182,
   "id": "320a8956",
   "metadata": {},
   "outputs": [
    {
     "name": "stdout",
     "output_type": "stream",
     "text": [
      "[03:46:30] WARNING: ../src/learner.cc:573: \n",
      "Parameters: { \"scale_pos_weight\", \"silent\" } might not be used.\n",
      "\n",
      "  This may not be accurate due to some parameters are only used in language bindings but\n",
      "  passed down to XGBoost core.  Or some parameters are not used but slip through this\n",
      "  verification. Please open an issue if you find above cases.\n",
      "\n",
      "\n"
     ]
    },
    {
     "name": "stderr",
     "output_type": "stream",
     "text": [
      "/home/soumik/anaconda3/envs/lazuli/lib/python3.7/site-packages/xgboost/sklearn.py:1146: UserWarning: The use of label encoder in XGBClassifier is deprecated and will be removed in a future release. To remove this warning, do the following: 1) Pass option use_label_encoder=False when constructing XGBClassifier object; and 2) Encode your labels (y) as integers starting with 0, i.e. 0, 1, 2, ..., [num_class - 1].\n",
      "  warnings.warn(label_encoder_deprecation_msg, UserWarning)\n"
     ]
    }
   ],
   "source": [
    "model, y_pred = xgboost_model(X_train, X_test, y_train, y_test, params)"
   ]
  },
  {
   "cell_type": "code",
   "execution_count": 183,
   "id": "68f36214",
   "metadata": {},
   "outputs": [],
   "source": [
    "# calculate confusion matrix and f1 score for multi-class classification\n",
    "def confusion_matrix_f1_score(y_test, y_pred):\n",
    "    cm = confusion_matrix(y_test, y_pred)\n",
    "    f1 = f1_score(y_test, y_pred, average='weighted')\n",
    "    return cm, f1\n",
    "\n",
    "# calculate macro f1 score for multi-class classification\n",
    "def macro_f1_score(cm):\n",
    "    f1 = 0\n",
    "    for i in range(cm.shape[0]):\n",
    "        f1 += cm[i][i] / np.sum(cm[i])\n",
    "    f1 /= cm.shape[0]\n",
    "    return f1"
   ]
  },
  {
   "cell_type": "code",
   "execution_count": 184,
   "id": "7cb1599f",
   "metadata": {},
   "outputs": [],
   "source": [
    "cm, f1  = confusion_matrix_f1_score(y_test, y_pred)"
   ]
  },
  {
   "cell_type": "code",
   "execution_count": 185,
   "id": "9a944b18",
   "metadata": {},
   "outputs": [
    {
     "data": {
      "text/plain": [
       "1.0"
      ]
     },
     "execution_count": 185,
     "metadata": {},
     "output_type": "execute_result"
    }
   ],
   "source": [
    "f1"
   ]
  },
  {
   "cell_type": "code",
   "execution_count": null,
   "id": "599902eb",
   "metadata": {},
   "outputs": [],
   "source": []
  },
  {
   "cell_type": "code",
   "execution_count": 186,
   "id": "cbb95e23",
   "metadata": {},
   "outputs": [],
   "source": [
    "macro_f1  = macro_f1_score(cm)"
   ]
  },
  {
   "cell_type": "code",
   "execution_count": 187,
   "id": "55336558",
   "metadata": {},
   "outputs": [
    {
     "data": {
      "text/plain": [
       "1.0"
      ]
     },
     "execution_count": 187,
     "metadata": {},
     "output_type": "execute_result"
    }
   ],
   "source": [
    "macro_f1"
   ]
  },
  {
   "cell_type": "code",
   "execution_count": 188,
   "id": "8fff9f3e",
   "metadata": {},
   "outputs": [
    {
     "data": {
      "text/plain": [
       "1.0"
      ]
     },
     "execution_count": 188,
     "metadata": {},
     "output_type": "execute_result"
    }
   ],
   "source": [
    "accuracy"
   ]
  },
  {
   "cell_type": "code",
   "execution_count": 189,
   "id": "9cceb821",
   "metadata": {},
   "outputs": [
    {
     "data": {
      "text/plain": [
       "array([8, 1, 1, ..., 1, 1, 4])"
      ]
     },
     "execution_count": 189,
     "metadata": {},
     "output_type": "execute_result"
    }
   ],
   "source": [
    "y_pred"
   ]
  },
  {
   "cell_type": "code",
   "execution_count": null,
   "id": "6b64a239",
   "metadata": {},
   "outputs": [],
   "source": []
  }
 ],
 "metadata": {
  "kernelspec": {
   "display_name": "Python 3",
   "language": "python",
   "name": "python3"
  },
  "language_info": {
   "codemirror_mode": {
    "name": "ipython",
    "version": 3
   },
   "file_extension": ".py",
   "mimetype": "text/x-python",
   "name": "python",
   "nbconvert_exporter": "python",
   "pygments_lexer": "ipython3",
   "version": "3.7.10"
  }
 },
 "nbformat": 4,
 "nbformat_minor": 5
}
